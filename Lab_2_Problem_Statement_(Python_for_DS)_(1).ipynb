{
  "cells": [
    {
      "cell_type": "markdown",
      "id": "1bd3906b",
      "metadata": {
        "id": "1bd3906b"
      },
      "source": [
        "## Lab Session"
      ]
    },
    {
      "cell_type": "markdown",
      "id": "ccfb2855",
      "metadata": {
        "id": "ccfb2855"
      },
      "source": [
        "### Learning Objective:\n",
        "- Working with data using python libaries.\n",
        "- Data Visualization.\n",
        "- Exploratory data analysis and data preprocessing.\n",
        "- Building a Linear regression model to predict the tip amount based on different input features."
      ]
    },
    {
      "cell_type": "markdown",
      "id": "61ef0de3",
      "metadata": {
        "id": "61ef0de3"
      },
      "source": [
        "### About the dataset (Customer Tip Data)\n",
        "\n",
        "#### Dataset Source: https://www.kaggle.com/datasets/ranjeetjain3/seaborn-tips-dataset\n",
        "\n",
        "The dataset contains information about the 244 orders served at a restaurant in the United States. Each observation includes the factors related to the order like total bill, time, the total number of people in a group, gender of the person paying for the order and so on.\n",
        "\n",
        "#### Attribute Information:\n",
        "\n",
        "- **total_bill:** Total bill (cost of the meal), including tax, in US dollars\n",
        "- **tip:** Tip in US dollars\n",
        "- **sex:** Sex of person paying for the meal\n",
        "- **smoker:** There is a smoker in a group or not\n",
        "- **day:** Day on which the order is served\n",
        "- **time:** Time of the order\n",
        "- **size:** Size of the group\n",
        "\n",
        "Food servers’ tips in restaurants may be influenced by many factors, including the nature of the restaurant, size of the party, and table locations in the restaurant. Restaurant managers need to know which factors matter when they assign tables to food servers. For the sake of staff morale, they usually want to avoid either the substance or the appearance of unfair\n",
        "treatment of the servers, for whom tips (at least in restaurants in the UnitedStates) are a major component of pay."
      ]
    },
    {
      "cell_type": "markdown",
      "id": "e4e44e06",
      "metadata": {
        "id": "e4e44e06"
      },
      "source": [
        "### Import required libraries"
      ]
    },
    {
      "cell_type": "code",
      "execution_count": 1,
      "id": "89b9d6d7",
      "metadata": {
        "id": "89b9d6d7"
      },
      "outputs": [],
      "source": [
        "import pandas as pd\n",
        "import numpy as np\n",
        "import seaborn as sns\n",
        "import matplotlib.pyplot as plt\n",
        "from sklearn.model_selection import train_test_split\n",
        "from sklearn.linear_model import LinearRegression\n",
        "from sklearn.metrics import r2_score\n",
        "from sklearn.preprocessing import MinMaxScaler\n"
      ]
    },
    {
      "cell_type": "markdown",
      "id": "9ead3dea",
      "metadata": {
        "id": "9ead3dea"
      },
      "source": [
        "### Load the dataset"
      ]
    },
    {
      "cell_type": "code",
      "execution_count": 3,
      "id": "a9ba115f",
      "metadata": {
        "id": "a9ba115f",
        "colab": {
          "base_uri": "https://localhost:8080/",
          "height": 206
        },
        "outputId": "e5660fe7-a359-4d94-eea7-ae8611c85a4f"
      },
      "outputs": [
        {
          "output_type": "execute_result",
          "data": {
            "text/plain": [
              "   total_bill   tip     sex smoker  day    time  size\n",
              "0       16.99  1.01  Female     No  Sun  Dinner     2\n",
              "1       10.34  1.66    Male     No  Sun  Dinner     3\n",
              "2       21.01  3.50    Male     No  Sun  Dinner     3\n",
              "3       23.68  3.31    Male     No  Sun  Dinner     2\n",
              "4       24.59  3.61  Female     No  Sun  Dinner     4"
            ],
            "text/html": [
              "\n",
              "  <div id=\"df-03e9d2ab-eb67-4a68-a051-b1f482530a30\" class=\"colab-df-container\">\n",
              "    <div>\n",
              "<style scoped>\n",
              "    .dataframe tbody tr th:only-of-type {\n",
              "        vertical-align: middle;\n",
              "    }\n",
              "\n",
              "    .dataframe tbody tr th {\n",
              "        vertical-align: top;\n",
              "    }\n",
              "\n",
              "    .dataframe thead th {\n",
              "        text-align: right;\n",
              "    }\n",
              "</style>\n",
              "<table border=\"1\" class=\"dataframe\">\n",
              "  <thead>\n",
              "    <tr style=\"text-align: right;\">\n",
              "      <th></th>\n",
              "      <th>total_bill</th>\n",
              "      <th>tip</th>\n",
              "      <th>sex</th>\n",
              "      <th>smoker</th>\n",
              "      <th>day</th>\n",
              "      <th>time</th>\n",
              "      <th>size</th>\n",
              "    </tr>\n",
              "  </thead>\n",
              "  <tbody>\n",
              "    <tr>\n",
              "      <th>0</th>\n",
              "      <td>16.99</td>\n",
              "      <td>1.01</td>\n",
              "      <td>Female</td>\n",
              "      <td>No</td>\n",
              "      <td>Sun</td>\n",
              "      <td>Dinner</td>\n",
              "      <td>2</td>\n",
              "    </tr>\n",
              "    <tr>\n",
              "      <th>1</th>\n",
              "      <td>10.34</td>\n",
              "      <td>1.66</td>\n",
              "      <td>Male</td>\n",
              "      <td>No</td>\n",
              "      <td>Sun</td>\n",
              "      <td>Dinner</td>\n",
              "      <td>3</td>\n",
              "    </tr>\n",
              "    <tr>\n",
              "      <th>2</th>\n",
              "      <td>21.01</td>\n",
              "      <td>3.50</td>\n",
              "      <td>Male</td>\n",
              "      <td>No</td>\n",
              "      <td>Sun</td>\n",
              "      <td>Dinner</td>\n",
              "      <td>3</td>\n",
              "    </tr>\n",
              "    <tr>\n",
              "      <th>3</th>\n",
              "      <td>23.68</td>\n",
              "      <td>3.31</td>\n",
              "      <td>Male</td>\n",
              "      <td>No</td>\n",
              "      <td>Sun</td>\n",
              "      <td>Dinner</td>\n",
              "      <td>2</td>\n",
              "    </tr>\n",
              "    <tr>\n",
              "      <th>4</th>\n",
              "      <td>24.59</td>\n",
              "      <td>3.61</td>\n",
              "      <td>Female</td>\n",
              "      <td>No</td>\n",
              "      <td>Sun</td>\n",
              "      <td>Dinner</td>\n",
              "      <td>4</td>\n",
              "    </tr>\n",
              "  </tbody>\n",
              "</table>\n",
              "</div>\n",
              "    <div class=\"colab-df-buttons\">\n",
              "\n",
              "  <div class=\"colab-df-container\">\n",
              "    <button class=\"colab-df-convert\" onclick=\"convertToInteractive('df-03e9d2ab-eb67-4a68-a051-b1f482530a30')\"\n",
              "            title=\"Convert this dataframe to an interactive table.\"\n",
              "            style=\"display:none;\">\n",
              "\n",
              "  <svg xmlns=\"http://www.w3.org/2000/svg\" height=\"24px\" viewBox=\"0 -960 960 960\">\n",
              "    <path d=\"M120-120v-720h720v720H120Zm60-500h600v-160H180v160Zm220 220h160v-160H400v160Zm0 220h160v-160H400v160ZM180-400h160v-160H180v160Zm440 0h160v-160H620v160ZM180-180h160v-160H180v160Zm440 0h160v-160H620v160Z\"/>\n",
              "  </svg>\n",
              "    </button>\n",
              "\n",
              "  <style>\n",
              "    .colab-df-container {\n",
              "      display:flex;\n",
              "      gap: 12px;\n",
              "    }\n",
              "\n",
              "    .colab-df-convert {\n",
              "      background-color: #E8F0FE;\n",
              "      border: none;\n",
              "      border-radius: 50%;\n",
              "      cursor: pointer;\n",
              "      display: none;\n",
              "      fill: #1967D2;\n",
              "      height: 32px;\n",
              "      padding: 0 0 0 0;\n",
              "      width: 32px;\n",
              "    }\n",
              "\n",
              "    .colab-df-convert:hover {\n",
              "      background-color: #E2EBFA;\n",
              "      box-shadow: 0px 1px 2px rgba(60, 64, 67, 0.3), 0px 1px 3px 1px rgba(60, 64, 67, 0.15);\n",
              "      fill: #174EA6;\n",
              "    }\n",
              "\n",
              "    .colab-df-buttons div {\n",
              "      margin-bottom: 4px;\n",
              "    }\n",
              "\n",
              "    [theme=dark] .colab-df-convert {\n",
              "      background-color: #3B4455;\n",
              "      fill: #D2E3FC;\n",
              "    }\n",
              "\n",
              "    [theme=dark] .colab-df-convert:hover {\n",
              "      background-color: #434B5C;\n",
              "      box-shadow: 0px 1px 3px 1px rgba(0, 0, 0, 0.15);\n",
              "      filter: drop-shadow(0px 1px 2px rgba(0, 0, 0, 0.3));\n",
              "      fill: #FFFFFF;\n",
              "    }\n",
              "  </style>\n",
              "\n",
              "    <script>\n",
              "      const buttonEl =\n",
              "        document.querySelector('#df-03e9d2ab-eb67-4a68-a051-b1f482530a30 button.colab-df-convert');\n",
              "      buttonEl.style.display =\n",
              "        google.colab.kernel.accessAllowed ? 'block' : 'none';\n",
              "\n",
              "      async function convertToInteractive(key) {\n",
              "        const element = document.querySelector('#df-03e9d2ab-eb67-4a68-a051-b1f482530a30');\n",
              "        const dataTable =\n",
              "          await google.colab.kernel.invokeFunction('convertToInteractive',\n",
              "                                                    [key], {});\n",
              "        if (!dataTable) return;\n",
              "\n",
              "        const docLinkHtml = 'Like what you see? Visit the ' +\n",
              "          '<a target=\"_blank\" href=https://colab.research.google.com/notebooks/data_table.ipynb>data table notebook</a>'\n",
              "          + ' to learn more about interactive tables.';\n",
              "        element.innerHTML = '';\n",
              "        dataTable['output_type'] = 'display_data';\n",
              "        await google.colab.output.renderOutput(dataTable, element);\n",
              "        const docLink = document.createElement('div');\n",
              "        docLink.innerHTML = docLinkHtml;\n",
              "        element.appendChild(docLink);\n",
              "      }\n",
              "    </script>\n",
              "  </div>\n",
              "\n",
              "\n",
              "<div id=\"df-84662dbc-8260-482f-92dc-cb1441e6acf1\">\n",
              "  <button class=\"colab-df-quickchart\" onclick=\"quickchart('df-84662dbc-8260-482f-92dc-cb1441e6acf1')\"\n",
              "            title=\"Suggest charts\"\n",
              "            style=\"display:none;\">\n",
              "\n",
              "<svg xmlns=\"http://www.w3.org/2000/svg\" height=\"24px\"viewBox=\"0 0 24 24\"\n",
              "     width=\"24px\">\n",
              "    <g>\n",
              "        <path d=\"M19 3H5c-1.1 0-2 .9-2 2v14c0 1.1.9 2 2 2h14c1.1 0 2-.9 2-2V5c0-1.1-.9-2-2-2zM9 17H7v-7h2v7zm4 0h-2V7h2v10zm4 0h-2v-4h2v4z\"/>\n",
              "    </g>\n",
              "</svg>\n",
              "  </button>\n",
              "\n",
              "<style>\n",
              "  .colab-df-quickchart {\n",
              "      --bg-color: #E8F0FE;\n",
              "      --fill-color: #1967D2;\n",
              "      --hover-bg-color: #E2EBFA;\n",
              "      --hover-fill-color: #174EA6;\n",
              "      --disabled-fill-color: #AAA;\n",
              "      --disabled-bg-color: #DDD;\n",
              "  }\n",
              "\n",
              "  [theme=dark] .colab-df-quickchart {\n",
              "      --bg-color: #3B4455;\n",
              "      --fill-color: #D2E3FC;\n",
              "      --hover-bg-color: #434B5C;\n",
              "      --hover-fill-color: #FFFFFF;\n",
              "      --disabled-bg-color: #3B4455;\n",
              "      --disabled-fill-color: #666;\n",
              "  }\n",
              "\n",
              "  .colab-df-quickchart {\n",
              "    background-color: var(--bg-color);\n",
              "    border: none;\n",
              "    border-radius: 50%;\n",
              "    cursor: pointer;\n",
              "    display: none;\n",
              "    fill: var(--fill-color);\n",
              "    height: 32px;\n",
              "    padding: 0;\n",
              "    width: 32px;\n",
              "  }\n",
              "\n",
              "  .colab-df-quickchart:hover {\n",
              "    background-color: var(--hover-bg-color);\n",
              "    box-shadow: 0 1px 2px rgba(60, 64, 67, 0.3), 0 1px 3px 1px rgba(60, 64, 67, 0.15);\n",
              "    fill: var(--button-hover-fill-color);\n",
              "  }\n",
              "\n",
              "  .colab-df-quickchart-complete:disabled,\n",
              "  .colab-df-quickchart-complete:disabled:hover {\n",
              "    background-color: var(--disabled-bg-color);\n",
              "    fill: var(--disabled-fill-color);\n",
              "    box-shadow: none;\n",
              "  }\n",
              "\n",
              "  .colab-df-spinner {\n",
              "    border: 2px solid var(--fill-color);\n",
              "    border-color: transparent;\n",
              "    border-bottom-color: var(--fill-color);\n",
              "    animation:\n",
              "      spin 1s steps(1) infinite;\n",
              "  }\n",
              "\n",
              "  @keyframes spin {\n",
              "    0% {\n",
              "      border-color: transparent;\n",
              "      border-bottom-color: var(--fill-color);\n",
              "      border-left-color: var(--fill-color);\n",
              "    }\n",
              "    20% {\n",
              "      border-color: transparent;\n",
              "      border-left-color: var(--fill-color);\n",
              "      border-top-color: var(--fill-color);\n",
              "    }\n",
              "    30% {\n",
              "      border-color: transparent;\n",
              "      border-left-color: var(--fill-color);\n",
              "      border-top-color: var(--fill-color);\n",
              "      border-right-color: var(--fill-color);\n",
              "    }\n",
              "    40% {\n",
              "      border-color: transparent;\n",
              "      border-right-color: var(--fill-color);\n",
              "      border-top-color: var(--fill-color);\n",
              "    }\n",
              "    60% {\n",
              "      border-color: transparent;\n",
              "      border-right-color: var(--fill-color);\n",
              "    }\n",
              "    80% {\n",
              "      border-color: transparent;\n",
              "      border-right-color: var(--fill-color);\n",
              "      border-bottom-color: var(--fill-color);\n",
              "    }\n",
              "    90% {\n",
              "      border-color: transparent;\n",
              "      border-bottom-color: var(--fill-color);\n",
              "    }\n",
              "  }\n",
              "</style>\n",
              "\n",
              "  <script>\n",
              "    async function quickchart(key) {\n",
              "      const quickchartButtonEl =\n",
              "        document.querySelector('#' + key + ' button');\n",
              "      quickchartButtonEl.disabled = true;  // To prevent multiple clicks.\n",
              "      quickchartButtonEl.classList.add('colab-df-spinner');\n",
              "      try {\n",
              "        const charts = await google.colab.kernel.invokeFunction(\n",
              "            'suggestCharts', [key], {});\n",
              "      } catch (error) {\n",
              "        console.error('Error during call to suggestCharts:', error);\n",
              "      }\n",
              "      quickchartButtonEl.classList.remove('colab-df-spinner');\n",
              "      quickchartButtonEl.classList.add('colab-df-quickchart-complete');\n",
              "    }\n",
              "    (() => {\n",
              "      let quickchartButtonEl =\n",
              "        document.querySelector('#df-84662dbc-8260-482f-92dc-cb1441e6acf1 button');\n",
              "      quickchartButtonEl.style.display =\n",
              "        google.colab.kernel.accessAllowed ? 'block' : 'none';\n",
              "    })();\n",
              "  </script>\n",
              "</div>\n",
              "\n",
              "    </div>\n",
              "  </div>\n"
            ],
            "application/vnd.google.colaboratory.intrinsic+json": {
              "type": "dataframe",
              "variable_name": "tips",
              "summary": "{\n  \"name\": \"tips\",\n  \"rows\": 244,\n  \"fields\": [\n    {\n      \"column\": \"total_bill\",\n      \"properties\": {\n        \"dtype\": \"number\",\n        \"std\": 8.902411954856856,\n        \"min\": 3.07,\n        \"max\": 50.81,\n        \"num_unique_values\": 229,\n        \"samples\": [\n          22.12,\n          20.23,\n          14.78\n        ],\n        \"semantic_type\": \"\",\n        \"description\": \"\"\n      }\n    },\n    {\n      \"column\": \"tip\",\n      \"properties\": {\n        \"dtype\": \"number\",\n        \"std\": 1.3836381890011826,\n        \"min\": 1.0,\n        \"max\": 10.0,\n        \"num_unique_values\": 123,\n        \"samples\": [\n          3.35,\n          1.5,\n          6.73\n        ],\n        \"semantic_type\": \"\",\n        \"description\": \"\"\n      }\n    },\n    {\n      \"column\": \"sex\",\n      \"properties\": {\n        \"dtype\": \"category\",\n        \"num_unique_values\": 2,\n        \"samples\": [\n          \"Male\",\n          \"Female\"\n        ],\n        \"semantic_type\": \"\",\n        \"description\": \"\"\n      }\n    },\n    {\n      \"column\": \"smoker\",\n      \"properties\": {\n        \"dtype\": \"category\",\n        \"num_unique_values\": 2,\n        \"samples\": [\n          \"Yes\",\n          \"No\"\n        ],\n        \"semantic_type\": \"\",\n        \"description\": \"\"\n      }\n    },\n    {\n      \"column\": \"day\",\n      \"properties\": {\n        \"dtype\": \"category\",\n        \"num_unique_values\": 4,\n        \"samples\": [\n          \"Sat\",\n          \"Fri\"\n        ],\n        \"semantic_type\": \"\",\n        \"description\": \"\"\n      }\n    },\n    {\n      \"column\": \"time\",\n      \"properties\": {\n        \"dtype\": \"category\",\n        \"num_unique_values\": 2,\n        \"samples\": [\n          \"Lunch\",\n          \"Dinner\"\n        ],\n        \"semantic_type\": \"\",\n        \"description\": \"\"\n      }\n    },\n    {\n      \"column\": \"size\",\n      \"properties\": {\n        \"dtype\": \"number\",\n        \"std\": 0,\n        \"min\": 1,\n        \"max\": 6,\n        \"num_unique_values\": 6,\n        \"samples\": [\n          2,\n          3\n        ],\n        \"semantic_type\": \"\",\n        \"description\": \"\"\n      }\n    }\n  ]\n}"
            }
          },
          "metadata": {},
          "execution_count": 3
        }
      ],
      "source": [
        "tips = sns.load_dataset('tips')\n",
        "tips.head()\n",
        "\n"
      ]
    },
    {
      "cell_type": "markdown",
      "id": "42cd8e14",
      "metadata": {
        "id": "42cd8e14"
      },
      "source": [
        "### 1. Make a list of categorical and numerical columns in the data."
      ]
    },
    {
      "cell_type": "code",
      "execution_count": 4,
      "id": "abc60524",
      "metadata": {
        "id": "abc60524",
        "colab": {
          "base_uri": "https://localhost:8080/"
        },
        "outputId": "d84cbd8a-9daa-4d3a-86c1-5b97099e6eb8"
      },
      "outputs": [
        {
          "output_type": "execute_result",
          "data": {
            "text/plain": [
              "([], ['total_bill', 'tip', 'size'])"
            ]
          },
          "metadata": {},
          "execution_count": 4
        }
      ],
      "source": [
        "categorical_columns = tips.select_dtypes(include=['object']).columns.tolist()\n",
        "numerical_columns = tips.select_dtypes(include=[np.number]).columns.tolist()\n",
        "categorical_columns, numerical_columns\n"
      ]
    },
    {
      "cell_type": "markdown",
      "id": "41ef8841",
      "metadata": {
        "id": "41ef8841"
      },
      "source": [
        "### 2. Compute the average bill amount for each day."
      ]
    },
    {
      "cell_type": "code",
      "execution_count": 5,
      "id": "75b5c0f2",
      "metadata": {
        "id": "75b5c0f2",
        "colab": {
          "base_uri": "https://localhost:8080/",
          "height": 297
        },
        "outputId": "a6db5d63-7b9a-47fa-f6e4-2e6f39f32af2"
      },
      "outputs": [
        {
          "output_type": "stream",
          "name": "stderr",
          "text": [
            "<ipython-input-5-3e364e19c77f>:1: FutureWarning: The default of observed=False is deprecated and will be changed to True in a future version of pandas. Pass observed=False to retain current behavior or observed=True to adopt the future default and silence this warning.\n",
            "  avg_bill_per_day = tips.groupby('day')['total_bill'].mean()\n"
          ]
        },
        {
          "output_type": "execute_result",
          "data": {
            "text/plain": [
              "day\n",
              "Thur    17.682742\n",
              "Fri     17.151579\n",
              "Sat     20.441379\n",
              "Sun     21.410000\n",
              "Name: total_bill, dtype: float64"
            ],
            "text/html": [
              "<div>\n",
              "<style scoped>\n",
              "    .dataframe tbody tr th:only-of-type {\n",
              "        vertical-align: middle;\n",
              "    }\n",
              "\n",
              "    .dataframe tbody tr th {\n",
              "        vertical-align: top;\n",
              "    }\n",
              "\n",
              "    .dataframe thead th {\n",
              "        text-align: right;\n",
              "    }\n",
              "</style>\n",
              "<table border=\"1\" class=\"dataframe\">\n",
              "  <thead>\n",
              "    <tr style=\"text-align: right;\">\n",
              "      <th></th>\n",
              "      <th>total_bill</th>\n",
              "    </tr>\n",
              "    <tr>\n",
              "      <th>day</th>\n",
              "      <th></th>\n",
              "    </tr>\n",
              "  </thead>\n",
              "  <tbody>\n",
              "    <tr>\n",
              "      <th>Thur</th>\n",
              "      <td>17.682742</td>\n",
              "    </tr>\n",
              "    <tr>\n",
              "      <th>Fri</th>\n",
              "      <td>17.151579</td>\n",
              "    </tr>\n",
              "    <tr>\n",
              "      <th>Sat</th>\n",
              "      <td>20.441379</td>\n",
              "    </tr>\n",
              "    <tr>\n",
              "      <th>Sun</th>\n",
              "      <td>21.410000</td>\n",
              "    </tr>\n",
              "  </tbody>\n",
              "</table>\n",
              "</div><br><label><b>dtype:</b> float64</label>"
            ]
          },
          "metadata": {},
          "execution_count": 5
        }
      ],
      "source": [
        "avg_bill_per_day = tips.groupby('day')['total_bill'].mean()\n",
        "avg_bill_per_day\n"
      ]
    },
    {
      "cell_type": "markdown",
      "id": "18894954",
      "metadata": {
        "id": "18894954"
      },
      "source": [
        "### 3. Which gender is more generous in giving tips?"
      ]
    },
    {
      "cell_type": "code",
      "execution_count": 6,
      "id": "f506a83a",
      "metadata": {
        "id": "f506a83a",
        "colab": {
          "base_uri": "https://localhost:8080/",
          "height": 91
        },
        "outputId": "0051a724-01ae-434b-f41c-e51fc65c72fc"
      },
      "outputs": [
        {
          "output_type": "stream",
          "name": "stderr",
          "text": [
            "<ipython-input-6-c1f3623d1e28>:1: FutureWarning: The default of observed=False is deprecated and will be changed to True in a future version of pandas. Pass observed=False to retain current behavior or observed=True to adopt the future default and silence this warning.\n",
            "  generous_gender = tips.groupby('sex')['tip'].mean().idxmax()\n"
          ]
        },
        {
          "output_type": "execute_result",
          "data": {
            "text/plain": [
              "'Male'"
            ],
            "application/vnd.google.colaboratory.intrinsic+json": {
              "type": "string"
            }
          },
          "metadata": {},
          "execution_count": 6
        }
      ],
      "source": [
        "generous_gender = tips.groupby('sex')['tip'].mean().idxmax()\n",
        "generous_gender\n"
      ]
    },
    {
      "cell_type": "markdown",
      "id": "984e3dbf",
      "metadata": {
        "id": "984e3dbf"
      },
      "source": [
        "### 4. According to the data, were there more customers for dinner or lunch?"
      ]
    },
    {
      "cell_type": "code",
      "execution_count": 7,
      "id": "d5cabe95",
      "metadata": {
        "id": "d5cabe95",
        "colab": {
          "base_uri": "https://localhost:8080/",
          "height": 178
        },
        "outputId": "63b5c1f8-271e-4765-930b-b19360a84b64"
      },
      "outputs": [
        {
          "output_type": "execute_result",
          "data": {
            "text/plain": [
              "time\n",
              "Dinner    176\n",
              "Lunch      68\n",
              "Name: count, dtype: int64"
            ],
            "text/html": [
              "<div>\n",
              "<style scoped>\n",
              "    .dataframe tbody tr th:only-of-type {\n",
              "        vertical-align: middle;\n",
              "    }\n",
              "\n",
              "    .dataframe tbody tr th {\n",
              "        vertical-align: top;\n",
              "    }\n",
              "\n",
              "    .dataframe thead th {\n",
              "        text-align: right;\n",
              "    }\n",
              "</style>\n",
              "<table border=\"1\" class=\"dataframe\">\n",
              "  <thead>\n",
              "    <tr style=\"text-align: right;\">\n",
              "      <th></th>\n",
              "      <th>count</th>\n",
              "    </tr>\n",
              "    <tr>\n",
              "      <th>time</th>\n",
              "      <th></th>\n",
              "    </tr>\n",
              "  </thead>\n",
              "  <tbody>\n",
              "    <tr>\n",
              "      <th>Dinner</th>\n",
              "      <td>176</td>\n",
              "    </tr>\n",
              "    <tr>\n",
              "      <th>Lunch</th>\n",
              "      <td>68</td>\n",
              "    </tr>\n",
              "  </tbody>\n",
              "</table>\n",
              "</div><br><label><b>dtype:</b> int64</label>"
            ]
          },
          "metadata": {},
          "execution_count": 7
        }
      ],
      "source": [
        "meal_time_count = tips['time'].value_counts()\n",
        "meal_time_count\n"
      ]
    },
    {
      "cell_type": "markdown",
      "id": "6cd773f0",
      "metadata": {
        "id": "6cd773f0"
      },
      "source": [
        "### 5. Based on the statistical summary, comment on the variable 'tip'"
      ]
    },
    {
      "cell_type": "code",
      "execution_count": 8,
      "id": "6ba68900",
      "metadata": {
        "id": "6ba68900",
        "colab": {
          "base_uri": "https://localhost:8080/",
          "height": 335
        },
        "outputId": "739beacd-41b3-4ccb-de32-6810a578755b"
      },
      "outputs": [
        {
          "output_type": "execute_result",
          "data": {
            "text/plain": [
              "count    244.000000\n",
              "mean       2.998279\n",
              "std        1.383638\n",
              "min        1.000000\n",
              "25%        2.000000\n",
              "50%        2.900000\n",
              "75%        3.562500\n",
              "max       10.000000\n",
              "Name: tip, dtype: float64"
            ],
            "text/html": [
              "<div>\n",
              "<style scoped>\n",
              "    .dataframe tbody tr th:only-of-type {\n",
              "        vertical-align: middle;\n",
              "    }\n",
              "\n",
              "    .dataframe tbody tr th {\n",
              "        vertical-align: top;\n",
              "    }\n",
              "\n",
              "    .dataframe thead th {\n",
              "        text-align: right;\n",
              "    }\n",
              "</style>\n",
              "<table border=\"1\" class=\"dataframe\">\n",
              "  <thead>\n",
              "    <tr style=\"text-align: right;\">\n",
              "      <th></th>\n",
              "      <th>tip</th>\n",
              "    </tr>\n",
              "  </thead>\n",
              "  <tbody>\n",
              "    <tr>\n",
              "      <th>count</th>\n",
              "      <td>244.000000</td>\n",
              "    </tr>\n",
              "    <tr>\n",
              "      <th>mean</th>\n",
              "      <td>2.998279</td>\n",
              "    </tr>\n",
              "    <tr>\n",
              "      <th>std</th>\n",
              "      <td>1.383638</td>\n",
              "    </tr>\n",
              "    <tr>\n",
              "      <th>min</th>\n",
              "      <td>1.000000</td>\n",
              "    </tr>\n",
              "    <tr>\n",
              "      <th>25%</th>\n",
              "      <td>2.000000</td>\n",
              "    </tr>\n",
              "    <tr>\n",
              "      <th>50%</th>\n",
              "      <td>2.900000</td>\n",
              "    </tr>\n",
              "    <tr>\n",
              "      <th>75%</th>\n",
              "      <td>3.562500</td>\n",
              "    </tr>\n",
              "    <tr>\n",
              "      <th>max</th>\n",
              "      <td>10.000000</td>\n",
              "    </tr>\n",
              "  </tbody>\n",
              "</table>\n",
              "</div><br><label><b>dtype:</b> float64</label>"
            ]
          },
          "metadata": {},
          "execution_count": 8
        }
      ],
      "source": [
        "tips['tip'].describe()\n"
      ]
    },
    {
      "cell_type": "markdown",
      "id": "d9c31198",
      "metadata": {
        "id": "d9c31198"
      },
      "source": [
        "### 6. Find the busiest day in terms of the orders?"
      ]
    },
    {
      "cell_type": "code",
      "execution_count": 9,
      "id": "c3d6ee67",
      "metadata": {
        "id": "c3d6ee67",
        "colab": {
          "base_uri": "https://localhost:8080/",
          "height": 35
        },
        "outputId": "8710baf0-2134-4e8c-d160-85dd453b3e99"
      },
      "outputs": [
        {
          "output_type": "execute_result",
          "data": {
            "text/plain": [
              "'Sat'"
            ],
            "application/vnd.google.colaboratory.intrinsic+json": {
              "type": "string"
            }
          },
          "metadata": {},
          "execution_count": 9
        }
      ],
      "source": [
        "busiest_day = tips['day'].value_counts().idxmax()\n",
        "busiest_day\n"
      ]
    },
    {
      "cell_type": "markdown",
      "id": "f01ba5cf",
      "metadata": {
        "id": "f01ba5cf"
      },
      "source": [
        "### 7. Is the variable 'total_bill' skewed? If yes, identify the type of skewness. Support your answer with a plot"
      ]
    },
    {
      "cell_type": "code",
      "execution_count": 10,
      "id": "05a8b7c2",
      "metadata": {
        "id": "05a8b7c2",
        "colab": {
          "base_uri": "https://localhost:8080/",
          "height": 472
        },
        "outputId": "f37d6c42-3825-41bb-cb66-65f8d514a6a6"
      },
      "outputs": [
        {
          "output_type": "display_data",
          "data": {
            "text/plain": [
              "<Figure size 640x480 with 1 Axes>"
            ],
            "image/png": "[encoded data removed]"
          },
          "metadata": {}
        }
      ],
      "source": [
        "skewness = tips['total_bill'].skew()\n",
        "sns.histplot(tips['total_bill'], kde=True)\n",
        "plt.title(f'Skewness: {skewness:.2f}')\n",
        "plt.show()\n"
      ]
    },
    {
      "cell_type": "markdown",
      "id": "0fe8fa86",
      "metadata": {
        "id": "0fe8fa86"
      },
      "source": [
        "### 8. Is the tip amount dependent on the total bill? Visualize the relationship with a appropriate plot and metric and write your findings."
      ]
    },
    {
      "cell_type": "code",
      "execution_count": 11,
      "id": "d45c2da4",
      "metadata": {
        "id": "d45c2da4",
        "colab": {
          "base_uri": "https://localhost:8080/",
          "height": 472
        },
        "outputId": "501a3f27-5241-40ce-d820-07d41779baf4"
      },
      "outputs": [
        {
          "output_type": "display_data",
          "data": {
            "text/plain": [
              "<Figure size 640x480 with 1 Axes>"
            ],
            "image/png": "[encoded data removed]"
          },
          "metadata": {}
        }
      ],
      "source": [
        "sns.scatterplot(x='total_bill', y='tip', data=tips)\n",
        "plt.title(\"Tip vs Total Bill\")\n",
        "plt.show()\n"
      ]
    },
    {
      "cell_type": "markdown",
      "id": "2469e9cc",
      "metadata": {
        "id": "2469e9cc"
      },
      "source": [
        "### 9. What is the percentage of males and females in the dataset? and display it in the plot"
      ]
    },
    {
      "cell_type": "code",
      "execution_count": 12,
      "id": "0dfd6414",
      "metadata": {
        "id": "0dfd6414",
        "colab": {
          "base_uri": "https://localhost:8080/",
          "height": 424
        },
        "outputId": "a444bb89-5baf-4b71-f1a0-5213430bcd4c"
      },
      "outputs": [
        {
          "output_type": "execute_result",
          "data": {
            "text/plain": [
              "<module 'matplotlib.pyplot' from '/usr/local/lib/python3.10/dist-packages/matplotlib/pyplot.py'>"
            ]
          },
          "metadata": {},
          "execution_count": 12
        },
        {
          "output_type": "display_data",
          "data": {
            "text/plain": [
              "<Figure size 640x480 with 1 Axes>"
            ],
            "image/png": "[encoded data removed]"
          },
          "metadata": {}
        }
      ],
      "source": [
        "gender_percentage = tips['sex'].value_counts(normalize=True) * 100\n",
        "gender_percentage.plot(kind='pie', autopct='%1.1f%%')\n",
        "plt\n"
      ]
    },
    {
      "cell_type": "markdown",
      "id": "35e7f9bb",
      "metadata": {
        "id": "35e7f9bb"
      },
      "source": [
        "### 10. Compute the gender-wise count based on smoking habits and display it in the plot"
      ]
    },
    {
      "cell_type": "code",
      "execution_count": 13,
      "id": "a266dd22",
      "metadata": {
        "id": "a266dd22",
        "colab": {
          "base_uri": "https://localhost:8080/",
          "height": 508
        },
        "outputId": "29402fef-08ec-49a6-a347-0ccafca4abd1"
      },
      "outputs": [
        {
          "output_type": "display_data",
          "data": {
            "text/plain": [
              "<Figure size 640x480 with 1 Axes>"
            ],
            "image/png": "[encoded data removed]"
          },
          "metadata": {}
        }
      ],
      "source": [
        "\n",
        "smoking_gender = pd.crosstab(tips['sex'], tips['smoker'])\n",
        "smoking_gender.plot(kind='bar', stacked=True)\n",
        "plt.title(\"Gender vs Smoking Habits\")\n",
        "plt.show()\n"
      ]
    },
    {
      "cell_type": "markdown",
      "id": "1f8ba505",
      "metadata": {
        "id": "1f8ba505"
      },
      "source": [
        "### 11. Compute the average tip amount given for different days and display it in the plot."
      ]
    },
    {
      "cell_type": "code",
      "execution_count": 14,
      "id": "13ae2148",
      "metadata": {
        "id": "13ae2148",
        "colab": {
          "base_uri": "https://localhost:8080/",
          "height": 545
        },
        "outputId": "e867cec7-95f1-42db-a907-f80d226efabf"
      },
      "outputs": [
        {
          "output_type": "stream",
          "name": "stderr",
          "text": [
            "<ipython-input-14-ab5b05023f16>:2: FutureWarning: The default of observed=False is deprecated and will be changed to True in a future version of pandas. Pass observed=False to retain current behavior or observed=True to adopt the future default and silence this warning.\n",
            "  avg_tip_per_day = tips.groupby('day')['tip'].mean()\n"
          ]
        },
        {
          "output_type": "display_data",
          "data": {
            "text/plain": [
              "<Figure size 640x480 with 1 Axes>"
            ],
            "image/png": "[encoded data removed]"
          },
          "metadata": {}
        }
      ],
      "source": [
        "# Average tip by day and plot\n",
        "avg_tip_per_day = tips.groupby('day')['tip'].mean()\n",
        "avg_tip_per_day.plot(kind='bar')\n",
        "plt.title(\"Average Tip by Day\")\n",
        "plt.ylabel(\"Average Tip\")\n",
        "plt.show()\n"
      ]
    },
    {
      "cell_type": "markdown",
      "id": "873f97a5",
      "metadata": {
        "id": "873f97a5"
      },
      "source": [
        "### 12. Is the average bill amount dependent on the size of the group? Visualize the relationship using appropriate plot and write your findings."
      ]
    },
    {
      "cell_type": "code",
      "execution_count": 15,
      "id": "07f676ad",
      "metadata": {
        "id": "07f676ad",
        "colab": {
          "base_uri": "https://localhost:8080/",
          "height": 690
        },
        "outputId": "7af0e384-1056-4c8f-c24f-e2e29b188299"
      },
      "outputs": [
        {
          "output_type": "stream",
          "name": "stdout",
          "text": [
            "Average Bill by Group Size:\n",
            "size\n",
            "1     7.242500\n",
            "2    16.448013\n",
            "3    23.277632\n",
            "4    28.613514\n",
            "5    30.068000\n",
            "6    34.830000\n",
            "Name: total_bill, dtype: float64\n"
          ]
        },
        {
          "output_type": "display_data",
          "data": {
            "text/plain": [
              "<Figure size 500x500 with 1 Axes>"
            ],
            "image/png": "[encoded data removed]"
          },
          "metadata": {}
        }
      ],
      "source": [
        "# Task 12: Is the average bill amount dependent on the size of the group?\n",
        "avg_bill_by_size = tips.groupby('size')['total_bill'].mean()  # Calculate average total bill for each group size\n",
        "print(\"Average Bill by Group Size:\")\n",
        "print(avg_bill_by_size)\n",
        "\n",
        "# Scatter plot with regression line to visualize the relationship\n",
        "sns.lmplot(x='size', y='total_bill', data=tips, ci=None)\n",
        "plt.title(\"Relationship between Group Size and Average Bill Amount\")\n",
        "plt.xlabel(\"Group Size\")\n",
        "plt.ylabel(\"Total Bill\")\n",
        "plt.show()\n"
      ]
    },
    {
      "cell_type": "markdown",
      "id": "566ae9fe",
      "metadata": {
        "id": "566ae9fe"
      },
      "source": [
        "### 13. Plot a horizontal boxplot to compare the bill amount based on gender"
      ]
    },
    {
      "cell_type": "code",
      "execution_count": 16,
      "id": "5957b3aa",
      "metadata": {
        "id": "5957b3aa",
        "colab": {
          "base_uri": "https://localhost:8080/",
          "height": 472
        },
        "outputId": "2e537dbe-d4f2-4901-af9c-5c9259330174"
      },
      "outputs": [
        {
          "output_type": "display_data",
          "data": {
            "text/plain": [
              "<Figure size 640x480 with 1 Axes>"
            ],
            "image/png": "[encoded data removed]"
          },
          "metadata": {}
        }
      ],
      "source": [
        "# Task 13: Plot a horizontal boxplot to compare the bill amount based on gender\n",
        "sns.boxplot(x='total_bill', y='sex', data=tips, orient='h')\n",
        "plt.title(\"Comparison of Bill Amount Based on Gender\")\n",
        "plt.xlabel(\"Total Bill\")\n",
        "plt.ylabel(\"Gender\")\n",
        "plt.show()\n"
      ]
    },
    {
      "cell_type": "markdown",
      "id": "5bc13310",
      "metadata": {
        "id": "5bc13310"
      },
      "source": [
        "14. Find the maximum bill amount for lunch and dinner on Saturday and Sunday"
      ]
    },
    {
      "cell_type": "code",
      "execution_count": 17,
      "id": "06f56d22",
      "metadata": {
        "id": "06f56d22",
        "colab": {
          "base_uri": "https://localhost:8080/"
        },
        "outputId": "3eee91e1-6d9e-4c8b-f87f-0f1a275f6642"
      },
      "outputs": [
        {
          "output_type": "stream",
          "name": "stdout",
          "text": [
            "Maximum bill amount for lunch and dinner on Saturday and Sunday:\n",
            "day   time  \n",
            "Thur  Lunch       NaN\n",
            "      Dinner      NaN\n",
            "Fri   Lunch       NaN\n",
            "      Dinner      NaN\n",
            "Sat   Lunch       NaN\n",
            "      Dinner    50.81\n",
            "Sun   Lunch       NaN\n",
            "      Dinner    48.17\n",
            "Name: total_bill, dtype: float64\n"
          ]
        },
        {
          "output_type": "stream",
          "name": "stderr",
          "text": [
            "<ipython-input-17-747aab6dbabd>:4: FutureWarning: The default of observed=False is deprecated and will be changed to True in a future version of pandas. Pass observed=False to retain current behavior or observed=True to adopt the future default and silence this warning.\n",
            "  max_bill_weekend = weekend_data.groupby(['day', 'time'])['total_bill'].max()\n"
          ]
        }
      ],
      "source": [
        "weekend_data = tips[(tips['day'].isin(['Sat', 'Sun'])) & (tips['time'].isin(['Lunch', 'Dinner']))]\n",
        "\n",
        "# Group by day and time, then find the maximum total bill\n",
        "max_bill_weekend = weekend_data.groupby(['day', 'time'])['total_bill'].max()\n",
        "print(\"Maximum bill amount for lunch and dinner on Saturday and Sunday:\")\n",
        "print(max_bill_weekend)"
      ]
    },
    {
      "cell_type": "markdown",
      "id": "aa484774",
      "metadata": {
        "id": "aa484774"
      },
      "source": [
        "### 15. Compute the percentage of missing values in the dataset."
      ]
    },
    {
      "cell_type": "code",
      "execution_count": 18,
      "id": "5c9bf12e",
      "metadata": {
        "id": "5c9bf12e",
        "colab": {
          "base_uri": "https://localhost:8080/"
        },
        "outputId": "ea53af8f-930b-4dc7-c5f6-913491f0f642"
      },
      "outputs": [
        {
          "output_type": "stream",
          "name": "stdout",
          "text": [
            "Percentage of missing values in each column:\n",
            "total_bill    0.0\n",
            "tip           0.0\n",
            "sex           0.0\n",
            "smoker        0.0\n",
            "day           0.0\n",
            "time          0.0\n",
            "size          0.0\n",
            "dtype: float64\n"
          ]
        }
      ],
      "source": [
        "\n",
        "missing_percentage = tips.isnull().mean() * 100\n",
        "print(\"Percentage of missing values in each column:\")\n",
        "print(missing_percentage)\n"
      ]
    },
    {
      "cell_type": "markdown",
      "id": "abfaf333",
      "metadata": {
        "id": "abfaf333"
      },
      "source": [
        "### 16. Is there are any duplicate records in the dataset? If yes compute the count of the duplicate records and drop them."
      ]
    },
    {
      "cell_type": "code",
      "execution_count": 19,
      "id": "751f4641",
      "metadata": {
        "id": "751f4641",
        "colab": {
          "base_uri": "https://localhost:8080/"
        },
        "outputId": "9fe9fa23-61c2-4606-f1fc-dd807d6f4058"
      },
      "outputs": [
        {
          "output_type": "stream",
          "name": "stdout",
          "text": [
            "Number of duplicate records: 1\n",
            "Duplicate records have been dropped.\n"
          ]
        }
      ],
      "source": [
        "duplicate_count = tips.duplicated().sum()\n",
        "print(f\"Number of duplicate records: {duplicate_count}\")\n",
        "\n",
        "# Drop duplicates if any exist\n",
        "if duplicate_count > 0:\n",
        "    tips = tips.drop_duplicates()\n",
        "    print(\"Duplicate records have been dropped.\")\n",
        "else:\n",
        "    print(\"No duplicate records found.\")"
      ]
    },
    {
      "cell_type": "markdown",
      "id": "4aa4a763",
      "metadata": {
        "id": "4aa4a763"
      },
      "source": [
        "### 17. Is there are any outliers present in the column 'total_bill'? If yes treat them with transformation approach, and plot a boxplot before and after the treatment"
      ]
    },
    {
      "cell_type": "code",
      "execution_count": 20,
      "id": "c6885f21",
      "metadata": {
        "id": "c6885f21",
        "colab": {
          "base_uri": "https://localhost:8080/",
          "height": 993
        },
        "outputId": "f5b2ffe5-6b62-408b-ca6b-547471059138"
      },
      "outputs": [
        {
          "output_type": "display_data",
          "data": {
            "text/plain": [
              "<Figure size 800x500 with 1 Axes>"
            ],
            "image/png": "[encoded data removed]"
          },
          "metadata": {}
        },
        {
          "output_type": "stream",
          "name": "stdout",
          "text": [
            "Skewness of 'total_bill' before transformation: 1.1273625781584489\n"
          ]
        },
        {
          "output_type": "display_data",
          "data": {
            "text/plain": [
              "<Figure size 800x500 with 1 Axes>"
            ],
            "image/png": "[encoded data removed]"
          },
          "metadata": {}
        },
        {
          "output_type": "stream",
          "name": "stdout",
          "text": [
            "Skewness of 'total_bill' after transformation: -0.018400211976009148\n"
          ]
        }
      ],
      "source": [
        "plt.figure(figsize=(8, 5))\n",
        "sns.boxplot(x='total_bill', data=tips)\n",
        "plt.title(\"Boxplot of 'total_bill' Before Transformation\")\n",
        "plt.show()\n",
        "\n",
        "# Check skewness to understand if transformation could help with outliers\n",
        "skewness = tips['total_bill'].skew()\n",
        "print(f\"Skewness of 'total_bill' before transformation: {skewness}\")\n",
        "\n",
        "# Apply a log transformation to 'total_bill' to reduce outliers' effect\n",
        "tips['total_bill_transformed'] = np.log1p(tips['total_bill'])  # log1p is log(1 + x), handles zero values\n",
        "\n",
        "# Boxplot after transformation to observe changes\n",
        "plt.figure(figsize=(8, 5))\n",
        "sns.boxplot(x='total_bill_transformed', data=tips)\n",
        "plt.title(\"Boxplot of 'total_bill' After Transformation\")\n",
        "plt.show()\n",
        "\n",
        "# Check skewness after transformation\n",
        "skewness_transformed = tips['total_bill_transformed'].skew()\n",
        "print(f\"Skewness of 'total_bill' after transformation: {skewness_transformed}\")"
      ]
    },
    {
      "cell_type": "markdown",
      "id": "2e8bfa6f",
      "metadata": {
        "id": "2e8bfa6f"
      },
      "source": [
        "### 18. Is there are any outliers present in the column 'tip'? If yes remove them using IQR techinque."
      ]
    },
    {
      "cell_type": "code",
      "execution_count": 21,
      "id": "29d3f9e0",
      "metadata": {
        "id": "29d3f9e0",
        "colab": {
          "base_uri": "https://localhost:8080/"
        },
        "outputId": "f2dc4371-bc1e-445f-ad1f-62c7ffaff4bf"
      },
      "outputs": [
        {
          "output_type": "stream",
          "name": "stdout",
          "text": [
            "Lower bound for outliers: -0.36250000000000027\n",
            "Upper bound for outliers: 5.9375\n",
            "Original dataset size: 243\n",
            "Dataset size after removing outliers: 235\n"
          ]
        }
      ],
      "source": [
        "Q1 = tips['tip'].quantile(0.25)\n",
        "Q3 = tips['tip'].quantile(0.75)\n",
        "IQR = Q3 - Q1\n",
        "\n",
        "# Define the outlier bounds\n",
        "lower_bound = Q1 - 1.5 * IQR\n",
        "upper_bound = Q3 + 1.5 * IQR\n",
        "\n",
        "print(f\"Lower bound for outliers: {lower_bound}\")\n",
        "print(f\"Upper bound for outliers: {upper_bound}\")\n",
        "\n",
        "# Filter the dataset to remove outliers\n",
        "tips_no_outliers = tips[(tips['tip'] >= lower_bound) & (tips['tip'] <= upper_bound)]\n",
        "\n",
        "# Display the number of records before and after removing outliers\n",
        "print(f\"Original dataset size: {tips.shape[0]}\")\n",
        "print(f\"Dataset size after removing outliers: {tips_no_outliers.shape[0]}\")"
      ]
    },
    {
      "cell_type": "markdown",
      "id": "10d91bd7",
      "metadata": {
        "id": "10d91bd7"
      },
      "source": [
        "### 19. Encode the categorical columns in the dataset and print the random 5 samples from the dataframe."
      ]
    },
    {
      "cell_type": "code",
      "execution_count": 22,
      "id": "05ad1918",
      "metadata": {
        "id": "05ad1918",
        "colab": {
          "base_uri": "https://localhost:8080/"
        },
        "outputId": "f5ae0d6c-ea81-4790-f4c9-6208787d2138"
      },
      "outputs": [
        {
          "output_type": "stream",
          "name": "stdout",
          "text": [
            "5 Random Samples from the Encoded DataFrame:\n",
            "     total_bill  tip  size  total_bill_transformed  sex_Female  smoker_No  \\\n",
            "227       20.45  3.0     4                3.065725       False       True   \n",
            "217       11.59  1.5     2                2.532903       False      False   \n",
            "133       12.26  2.0     2                2.584752        True       True   \n",
            "47        32.40  6.0     4                3.508556       False       True   \n",
            "231       15.69  3.0     3                2.814810       False      False   \n",
            "\n",
            "     day_Fri  day_Sat  day_Sun  time_Dinner  \n",
            "227    False     True    False         True  \n",
            "217    False     True    False         True  \n",
            "133    False    False    False        False  \n",
            "47     False    False     True         True  \n",
            "231    False     True    False         True  \n"
          ]
        }
      ],
      "source": [
        "tips_encoded = pd.get_dummies(tips, drop_first=True)  # drop_first=True avoids the dummy variable trap\n",
        "\n",
        "# Display 5 random samples from the encoded dataframe\n",
        "print(\"5 Random Samples from the Encoded DataFrame:\")\n",
        "print(tips_encoded.sample(5))"
      ]
    },
    {
      "cell_type": "markdown",
      "id": "54ebc8e9",
      "metadata": {
        "id": "54ebc8e9"
      },
      "source": [
        "### 20. Check the range of the column 'total_bill' and transform the values such that the range will be 1."
      ]
    },
    {
      "cell_type": "code",
      "execution_count": 23,
      "id": "fb841382",
      "metadata": {
        "id": "fb841382",
        "colab": {
          "base_uri": "https://localhost:8080/"
        },
        "outputId": "56d6344e-1101-46a6-b69d-c406c981c85b"
      },
      "outputs": [
        {
          "output_type": "stream",
          "name": "stdout",
          "text": [
            "Original range of 'total_bill': Min = 3.07, Max = 50.81\n",
            "New range of 'total_bill_scaled': Min = 0.0, Max = 1.0\n"
          ]
        }
      ],
      "source": [
        "\n",
        "# Check the original range of 'total_bill'\n",
        "min_bill = tips['total_bill'].min()\n",
        "max_bill = tips['total_bill'].max()\n",
        "print(f\"Original range of 'total_bill': Min = {min_bill}, Max = {max_bill}\")\n",
        "\n",
        "# Apply Min-Max scaling to transform 'total_bill' to range between 0 and 1\n",
        "tips['total_bill_scaled'] = (tips['total_bill'] - min_bill) / (max_bill - min_bill)\n",
        "\n",
        "# Check the new range of the scaled 'total_bill' column\n",
        "print(f\"New range of 'total_bill_scaled': Min = {tips['total_bill_scaled'].min()}, Max = {tips['total_bill_scaled'].max()}\")\n"
      ]
    },
    {
      "cell_type": "markdown",
      "source": [
        "### 21. Load the dataset again by giving the name of the dataframe as \"tips_df\"\n",
        "- i) Encode the categorical variables.\n",
        "- ii) Store the target column (i.e.tip) in the y variable and the rest of the columns in the X variable"
      ],
      "metadata": {
        "id": "_yaGehJD5Fhe"
      },
      "id": "_yaGehJD5Fhe"
    },
    {
      "cell_type": "code",
      "source": [
        "import seaborn as sns\n",
        "\n",
        "# Load the tips dataset and assign it to tips_df\n",
        "tips_df = sns.load_dataset('tips')\n",
        "\n",
        "# Display the first few rows of the new dataframe to confirm\n",
        "tips_df.head()"
      ],
      "metadata": {
        "id": "ruS7FI5s5Jt2",
        "colab": {
          "base_uri": "https://localhost:8080/",
          "height": 206
        },
        "outputId": "3c02786f-4858-42f3-842d-60063d36e56b"
      },
      "id": "ruS7FI5s5Jt2",
      "execution_count": 24,
      "outputs": [
        {
          "output_type": "execute_result",
          "data": {
            "text/plain": [
              "   total_bill   tip     sex smoker  day    time  size\n",
              "0       16.99  1.01  Female     No  Sun  Dinner     2\n",
              "1       10.34  1.66    Male     No  Sun  Dinner     3\n",
              "2       21.01  3.50    Male     No  Sun  Dinner     3\n",
              "3       23.68  3.31    Male     No  Sun  Dinner     2\n",
              "4       24.59  3.61  Female     No  Sun  Dinner     4"
            ],
            "text/html": [
              "\n",
              "  <div id=\"df-439f7c94-4a5b-49ce-9049-37f825ec1487\" class=\"colab-df-container\">\n",
              "    <div>\n",
              "<style scoped>\n",
              "    .dataframe tbody tr th:only-of-type {\n",
              "        vertical-align: middle;\n",
              "    }\n",
              "\n",
              "    .dataframe tbody tr th {\n",
              "        vertical-align: top;\n",
              "    }\n",
              "\n",
              "    .dataframe thead th {\n",
              "        text-align: right;\n",
              "    }\n",
              "</style>\n",
              "<table border=\"1\" class=\"dataframe\">\n",
              "  <thead>\n",
              "    <tr style=\"text-align: right;\">\n",
              "      <th></th>\n",
              "      <th>total_bill</th>\n",
              "      <th>tip</th>\n",
              "      <th>sex</th>\n",
              "      <th>smoker</th>\n",
              "      <th>day</th>\n",
              "      <th>time</th>\n",
              "      <th>size</th>\n",
              "    </tr>\n",
              "  </thead>\n",
              "  <tbody>\n",
              "    <tr>\n",
              "      <th>0</th>\n",
              "      <td>16.99</td>\n",
              "      <td>1.01</td>\n",
              "      <td>Female</td>\n",
              "      <td>No</td>\n",
              "      <td>Sun</td>\n",
              "      <td>Dinner</td>\n",
              "      <td>2</td>\n",
              "    </tr>\n",
              "    <tr>\n",
              "      <th>1</th>\n",
              "      <td>10.34</td>\n",
              "      <td>1.66</td>\n",
              "      <td>Male</td>\n",
              "      <td>No</td>\n",
              "      <td>Sun</td>\n",
              "      <td>Dinner</td>\n",
              "      <td>3</td>\n",
              "    </tr>\n",
              "    <tr>\n",
              "      <th>2</th>\n",
              "      <td>21.01</td>\n",
              "      <td>3.50</td>\n",
              "      <td>Male</td>\n",
              "      <td>No</td>\n",
              "      <td>Sun</td>\n",
              "      <td>Dinner</td>\n",
              "      <td>3</td>\n",
              "    </tr>\n",
              "    <tr>\n",
              "      <th>3</th>\n",
              "      <td>23.68</td>\n",
              "      <td>3.31</td>\n",
              "      <td>Male</td>\n",
              "      <td>No</td>\n",
              "      <td>Sun</td>\n",
              "      <td>Dinner</td>\n",
              "      <td>2</td>\n",
              "    </tr>\n",
              "    <tr>\n",
              "      <th>4</th>\n",
              "      <td>24.59</td>\n",
              "      <td>3.61</td>\n",
              "      <td>Female</td>\n",
              "      <td>No</td>\n",
              "      <td>Sun</td>\n",
              "      <td>Dinner</td>\n",
              "      <td>4</td>\n",
              "    </tr>\n",
              "  </tbody>\n",
              "</table>\n",
              "</div>\n",
              "    <div class=\"colab-df-buttons\">\n",
              "\n",
              "  <div class=\"colab-df-container\">\n",
              "    <button class=\"colab-df-convert\" onclick=\"convertToInteractive('df-439f7c94-4a5b-49ce-9049-37f825ec1487')\"\n",
              "            title=\"Convert this dataframe to an interactive table.\"\n",
              "            style=\"display:none;\">\n",
              "\n",
              "  <svg xmlns=\"http://www.w3.org/2000/svg\" height=\"24px\" viewBox=\"0 -960 960 960\">\n",
              "    <path d=\"M120-120v-720h720v720H120Zm60-500h600v-160H180v160Zm220 220h160v-160H400v160Zm0 220h160v-160H400v160ZM180-400h160v-160H180v160Zm440 0h160v-160H620v160ZM180-180h160v-160H180v160Zm440 0h160v-160H620v160Z\"/>\n",
              "  </svg>\n",
              "    </button>\n",
              "\n",
              "  <style>\n",
              "    .colab-df-container {\n",
              "      display:flex;\n",
              "      gap: 12px;\n",
              "    }\n",
              "\n",
              "    .colab-df-convert {\n",
              "      background-color: #E8F0FE;\n",
              "      border: none;\n",
              "      border-radius: 50%;\n",
              "      cursor: pointer;\n",
              "      display: none;\n",
              "      fill: #1967D2;\n",
              "      height: 32px;\n",
              "      padding: 0 0 0 0;\n",
              "      width: 32px;\n",
              "    }\n",
              "\n",
              "    .colab-df-convert:hover {\n",
              "      background-color: #E2EBFA;\n",
              "      box-shadow: 0px 1px 2px rgba(60, 64, 67, 0.3), 0px 1px 3px 1px rgba(60, 64, 67, 0.15);\n",
              "      fill: #174EA6;\n",
              "    }\n",
              "\n",
              "    .colab-df-buttons div {\n",
              "      margin-bottom: 4px;\n",
              "    }\n",
              "\n",
              "    [theme=dark] .colab-df-convert {\n",
              "      background-color: #3B4455;\n",
              "      fill: #D2E3FC;\n",
              "    }\n",
              "\n",
              "    [theme=dark] .colab-df-convert:hover {\n",
              "      background-color: #434B5C;\n",
              "      box-shadow: 0px 1px 3px 1px rgba(0, 0, 0, 0.15);\n",
              "      filter: drop-shadow(0px 1px 2px rgba(0, 0, 0, 0.3));\n",
              "      fill: #FFFFFF;\n",
              "    }\n",
              "  </style>\n",
              "\n",
              "    <script>\n",
              "      const buttonEl =\n",
              "        document.querySelector('#df-439f7c94-4a5b-49ce-9049-37f825ec1487 button.colab-df-convert');\n",
              "      buttonEl.style.display =\n",
              "        google.colab.kernel.accessAllowed ? 'block' : 'none';\n",
              "\n",
              "      async function convertToInteractive(key) {\n",
              "        const element = document.querySelector('#df-439f7c94-4a5b-49ce-9049-37f825ec1487');\n",
              "        const dataTable =\n",
              "          await google.colab.kernel.invokeFunction('convertToInteractive',\n",
              "                                                    [key], {});\n",
              "        if (!dataTable) return;\n",
              "\n",
              "        const docLinkHtml = 'Like what you see? Visit the ' +\n",
              "          '<a target=\"_blank\" href=https://colab.research.google.com/notebooks/data_table.ipynb>data table notebook</a>'\n",
              "          + ' to learn more about interactive tables.';\n",
              "        element.innerHTML = '';\n",
              "        dataTable['output_type'] = 'display_data';\n",
              "        await google.colab.output.renderOutput(dataTable, element);\n",
              "        const docLink = document.createElement('div');\n",
              "        docLink.innerHTML = docLinkHtml;\n",
              "        element.appendChild(docLink);\n",
              "      }\n",
              "    </script>\n",
              "  </div>\n",
              "\n",
              "\n",
              "<div id=\"df-a20c2b4d-8ece-4f80-b525-35e9d0b0375a\">\n",
              "  <button class=\"colab-df-quickchart\" onclick=\"quickchart('df-a20c2b4d-8ece-4f80-b525-35e9d0b0375a')\"\n",
              "            title=\"Suggest charts\"\n",
              "            style=\"display:none;\">\n",
              "\n",
              "<svg xmlns=\"http://www.w3.org/2000/svg\" height=\"24px\"viewBox=\"0 0 24 24\"\n",
              "     width=\"24px\">\n",
              "    <g>\n",
              "        <path d=\"M19 3H5c-1.1 0-2 .9-2 2v14c0 1.1.9 2 2 2h14c1.1 0 2-.9 2-2V5c0-1.1-.9-2-2-2zM9 17H7v-7h2v7zm4 0h-2V7h2v10zm4 0h-2v-4h2v4z\"/>\n",
              "    </g>\n",
              "</svg>\n",
              "  </button>\n",
              "\n",
              "<style>\n",
              "  .colab-df-quickchart {\n",
              "      --bg-color: #E8F0FE;\n",
              "      --fill-color: #1967D2;\n",
              "      --hover-bg-color: #E2EBFA;\n",
              "      --hover-fill-color: #174EA6;\n",
              "      --disabled-fill-color: #AAA;\n",
              "      --disabled-bg-color: #DDD;\n",
              "  }\n",
              "\n",
              "  [theme=dark] .colab-df-quickchart {\n",
              "      --bg-color: #3B4455;\n",
              "      --fill-color: #D2E3FC;\n",
              "      --hover-bg-color: #434B5C;\n",
              "      --hover-fill-color: #FFFFFF;\n",
              "      --disabled-bg-color: #3B4455;\n",
              "      --disabled-fill-color: #666;\n",
              "  }\n",
              "\n",
              "  .colab-df-quickchart {\n",
              "    background-color: var(--bg-color);\n",
              "    border: none;\n",
              "    border-radius: 50%;\n",
              "    cursor: pointer;\n",
              "    display: none;\n",
              "    fill: var(--fill-color);\n",
              "    height: 32px;\n",
              "    padding: 0;\n",
              "    width: 32px;\n",
              "  }\n",
              "\n",
              "  .colab-df-quickchart:hover {\n",
              "    background-color: var(--hover-bg-color);\n",
              "    box-shadow: 0 1px 2px rgba(60, 64, 67, 0.3), 0 1px 3px 1px rgba(60, 64, 67, 0.15);\n",
              "    fill: var(--button-hover-fill-color);\n",
              "  }\n",
              "\n",
              "  .colab-df-quickchart-complete:disabled,\n",
              "  .colab-df-quickchart-complete:disabled:hover {\n",
              "    background-color: var(--disabled-bg-color);\n",
              "    fill: var(--disabled-fill-color);\n",
              "    box-shadow: none;\n",
              "  }\n",
              "\n",
              "  .colab-df-spinner {\n",
              "    border: 2px solid var(--fill-color);\n",
              "    border-color: transparent;\n",
              "    border-bottom-color: var(--fill-color);\n",
              "    animation:\n",
              "      spin 1s steps(1) infinite;\n",
              "  }\n",
              "\n",
              "  @keyframes spin {\n",
              "    0% {\n",
              "      border-color: transparent;\n",
              "      border-bottom-color: var(--fill-color);\n",
              "      border-left-color: var(--fill-color);\n",
              "    }\n",
              "    20% {\n",
              "      border-color: transparent;\n",
              "      border-left-color: var(--fill-color);\n",
              "      border-top-color: var(--fill-color);\n",
              "    }\n",
              "    30% {\n",
              "      border-color: transparent;\n",
              "      border-left-color: var(--fill-color);\n",
              "      border-top-color: var(--fill-color);\n",
              "      border-right-color: var(--fill-color);\n",
              "    }\n",
              "    40% {\n",
              "      border-color: transparent;\n",
              "      border-right-color: var(--fill-color);\n",
              "      border-top-color: var(--fill-color);\n",
              "    }\n",
              "    60% {\n",
              "      border-color: transparent;\n",
              "      border-right-color: var(--fill-color);\n",
              "    }\n",
              "    80% {\n",
              "      border-color: transparent;\n",
              "      border-right-color: var(--fill-color);\n",
              "      border-bottom-color: var(--fill-color);\n",
              "    }\n",
              "    90% {\n",
              "      border-color: transparent;\n",
              "      border-bottom-color: var(--fill-color);\n",
              "    }\n",
              "  }\n",
              "</style>\n",
              "\n",
              "  <script>\n",
              "    async function quickchart(key) {\n",
              "      const quickchartButtonEl =\n",
              "        document.querySelector('#' + key + ' button');\n",
              "      quickchartButtonEl.disabled = true;  // To prevent multiple clicks.\n",
              "      quickchartButtonEl.classList.add('colab-df-spinner');\n",
              "      try {\n",
              "        const charts = await google.colab.kernel.invokeFunction(\n",
              "            'suggestCharts', [key], {});\n",
              "      } catch (error) {\n",
              "        console.error('Error during call to suggestCharts:', error);\n",
              "      }\n",
              "      quickchartButtonEl.classList.remove('colab-df-spinner');\n",
              "      quickchartButtonEl.classList.add('colab-df-quickchart-complete');\n",
              "    }\n",
              "    (() => {\n",
              "      let quickchartButtonEl =\n",
              "        document.querySelector('#df-a20c2b4d-8ece-4f80-b525-35e9d0b0375a button');\n",
              "      quickchartButtonEl.style.display =\n",
              "        google.colab.kernel.accessAllowed ? 'block' : 'none';\n",
              "    })();\n",
              "  </script>\n",
              "</div>\n",
              "\n",
              "    </div>\n",
              "  </div>\n"
            ],
            "application/vnd.google.colaboratory.intrinsic+json": {
              "type": "dataframe",
              "variable_name": "tips_df",
              "summary": "{\n  \"name\": \"tips_df\",\n  \"rows\": 244,\n  \"fields\": [\n    {\n      \"column\": \"total_bill\",\n      \"properties\": {\n        \"dtype\": \"number\",\n        \"std\": 8.902411954856856,\n        \"min\": 3.07,\n        \"max\": 50.81,\n        \"num_unique_values\": 229,\n        \"samples\": [\n          22.12,\n          20.23,\n          14.78\n        ],\n        \"semantic_type\": \"\",\n        \"description\": \"\"\n      }\n    },\n    {\n      \"column\": \"tip\",\n      \"properties\": {\n        \"dtype\": \"number\",\n        \"std\": 1.3836381890011826,\n        \"min\": 1.0,\n        \"max\": 10.0,\n        \"num_unique_values\": 123,\n        \"samples\": [\n          3.35,\n          1.5,\n          6.73\n        ],\n        \"semantic_type\": \"\",\n        \"description\": \"\"\n      }\n    },\n    {\n      \"column\": \"sex\",\n      \"properties\": {\n        \"dtype\": \"category\",\n        \"num_unique_values\": 2,\n        \"samples\": [\n          \"Male\",\n          \"Female\"\n        ],\n        \"semantic_type\": \"\",\n        \"description\": \"\"\n      }\n    },\n    {\n      \"column\": \"smoker\",\n      \"properties\": {\n        \"dtype\": \"category\",\n        \"num_unique_values\": 2,\n        \"samples\": [\n          \"Yes\",\n          \"No\"\n        ],\n        \"semantic_type\": \"\",\n        \"description\": \"\"\n      }\n    },\n    {\n      \"column\": \"day\",\n      \"properties\": {\n        \"dtype\": \"category\",\n        \"num_unique_values\": 4,\n        \"samples\": [\n          \"Sat\",\n          \"Fri\"\n        ],\n        \"semantic_type\": \"\",\n        \"description\": \"\"\n      }\n    },\n    {\n      \"column\": \"time\",\n      \"properties\": {\n        \"dtype\": \"category\",\n        \"num_unique_values\": 2,\n        \"samples\": [\n          \"Lunch\",\n          \"Dinner\"\n        ],\n        \"semantic_type\": \"\",\n        \"description\": \"\"\n      }\n    },\n    {\n      \"column\": \"size\",\n      \"properties\": {\n        \"dtype\": \"number\",\n        \"std\": 0,\n        \"min\": 1,\n        \"max\": 6,\n        \"num_unique_values\": 6,\n        \"samples\": [\n          2,\n          3\n        ],\n        \"semantic_type\": \"\",\n        \"description\": \"\"\n      }\n    }\n  ]\n}"
            }
          },
          "metadata": {},
          "execution_count": 24
        }
      ]
    },
    {
      "cell_type": "markdown",
      "source": [
        "### 22. Split the dataset into two parts (i.e. 70% train and 30% test), and Standardize the columns \"total_bill\" and \"Size\" using the mim_max scaling approach"
      ],
      "metadata": {
        "id": "6jnqKmXQ5KB9"
      },
      "id": "6jnqKmXQ5KB9"
    },
    {
      "cell_type": "code",
      "source": [
        "from sklearn.model_selection import train_test_split\n",
        "from sklearn.preprocessing import MinMaxScaler\n",
        "\n",
        "# Split the dataset into 70% train and 30% test\n",
        "X = tips_df.drop(columns=['tip'])  # Features (drop the target column 'tip')\n",
        "y = tips_df['tip']  # Target variable\n",
        "\n",
        "X_train, X_test, y_train, y_test = train_test_split(X, y, test_size=0.3, random_state=42)\n",
        "\n",
        "# Initialize the MinMaxScaler for scaling between 0 and 1\n",
        "scaler = MinMaxScaler()\n",
        "\n",
        "# Fit the scaler on 'total_bill' and 'size' columns of the training set and transform both train and test sets\n",
        "X_train[['total_bill', 'size']] = scaler.fit_transform(X_train[['total_bill', 'size']])\n",
        "X_test[['total_bill', 'size']] = scaler.transform(X_test[['total_bill', 'size']])\n",
        "\n",
        "# Display the first few rows of the scaled training data to verify\n",
        "print(\"Scaled Training Data (first 5 rows):\")\n",
        "print(X_train.head())"
      ],
      "metadata": {
        "id": "l-jHM1e_5OSp",
        "colab": {
          "base_uri": "https://localhost:8080/"
        },
        "outputId": "7fb90315-6c64-4a84-bb1f-8af78be25773"
      },
      "id": "l-jHM1e_5OSp",
      "execution_count": 25,
      "outputs": [
        {
          "output_type": "stream",
          "name": "stdout",
          "text": [
            "Scaled Training Data (first 5 rows):\n",
            "     total_bill   sex smoker  day    time  size\n",
            "234    0.217044  Male    Yes  Sat  Dinner   0.2\n",
            "227    0.326232  Male     No  Sat  Dinner   0.6\n",
            "180    0.641367  Male    Yes  Sun  Dinner   0.6\n",
            "5      0.433644  Male     No  Sun  Dinner   0.6\n",
            "56     0.715934  Male    Yes  Sat  Dinner   0.6\n"
          ]
        }
      ]
    },
    {
      "cell_type": "markdown",
      "source": [
        "### 23. Train a linear regression model using the training data and print the r_squared value of the prediction on the test data."
      ],
      "metadata": {
        "id": "6L5jwTPW5Oh-"
      },
      "id": "6L5jwTPW5Oh-"
    },
    {
      "cell_type": "code",
      "source": [
        "from sklearn.model_selection import train_test_split\n",
        "from sklearn.preprocessing import MinMaxScaler\n",
        "from sklearn.linear_model import LinearRegression\n",
        "from sklearn.metrics import r2_score\n",
        "\n",
        "import seaborn as sns\n",
        "tips_df = sns.load_dataset('tips')\n",
        "\n",
        "tips_encoded = pd.get_dummies(tips_df, drop_first=True)  # Automatically encodes all categorical columns\n",
        "\n",
        "# Separate features and target variable\n",
        "X = tips_encoded.drop(columns=['tip'])  # Features\n",
        "y = tips_encoded['tip']                # Target\n",
        "\n",
        "X_train, X_test, y_train, y_test = train_test_split(X, y, test_size=0.3, random_state=42)\n",
        "\n",
        "# Apply Min-Max scaling to 'total_bill' and 'size' columns\n",
        "scaler = MinMaxScaler()\n",
        "X_train[['total_bill', 'size']] = scaler.fit_transform(X_train[['total_bill', 'size']])\n",
        "X_test[['total_bill', 'size']] = scaler.transform(X_test[['total_bill', 'size']])\n",
        "\n",
        "model = LinearRegression()\n",
        "\n",
        "# Train the model on the training data\n",
        "model.fit(X_train, y_train)\n",
        "\n",
        "# Make predictions on the test data\n",
        "y_pred = model.predict(X_test)\n",
        "\n",
        "# Calculate the R-squared value for the model's performance on the test data\n",
        "r_squared = r2_score(y_test, y_pred)\n",
        "print(\"R-squared value of the prediction on the test data:\", r_squared)\n"
      ],
      "metadata": {
        "id": "HODaP3gg5SHY",
        "colab": {
          "base_uri": "https://localhost:8080/"
        },
        "outputId": "f68f9602-b9d9-4816-8509-7ad162529c74"
      },
      "id": "HODaP3gg5SHY",
      "execution_count": 27,
      "outputs": [
        {
          "output_type": "stream",
          "name": "stdout",
          "text": [
            "R-squared value of the prediction on the test data: 0.29309667441267273\n"
          ]
        }
      ]
    },
    {
      "cell_type": "markdown",
      "id": "388b6163",
      "metadata": {
        "id": "388b6163"
      },
      "source": [
        "### Happy Learning:)"
      ]
    }
  ],
  "metadata": {
    "kernelspec": {
      "display_name": "Python 3 (ipykernel)",
      "language": "python",
      "name": "python3"
    },
    "language_info": {
      "codemirror_mode": {
        "name": "ipython",
        "version": 3
      },
      "file_extension": ".py",
      "mimetype": "text/x-python",
      "name": "python",
      "nbconvert_exporter": "python",
      "pygments_lexer": "ipython3",
      "version": "3.9.7"
    },
    "colab": {
      "provenance": []
    }
  },
  "nbformat": 4,
  "nbformat_minor": 5
}